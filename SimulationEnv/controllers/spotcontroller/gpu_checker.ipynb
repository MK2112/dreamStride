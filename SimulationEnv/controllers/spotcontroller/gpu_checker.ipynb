{
 "cells": [
  {
   "cell_type": "markdown",
   "source": [
    "# GPU Checker for DayDreamer\n",
    "\n",
    "Running DayDreamer does not require a GPU.<br>\n",
    "Running DayDreamer in a timely fashion, however, requires you to have an NVIDIA GPU.\n",
    "\n",
    "**If you have an NVIDIA GPU, continue reading.**\n",
    "\n",
    "## Requirements and Setup\n",
    "\n",
    "- NVIDIA CUDA 11.2\n",
    "- NVIDIA CuDNN 8.1 (you will need to create an NVIDIA account, https://youtu.be/tQIdxbWhHSM?si=-ojGtIRg60D13I5-&t=37)\n",
    "- Tensorflow 2.10.0 (none other, this is the last version supporting GPUs on both Linux *and* Windows)\n",
    "- If you run within a (recommended) CONDA environment, run `conda install -c cudatoolkit=11.2` (Python 3.10)\n",
    "\n",
    "> **If all of the above is set (exactly like this or related), run the code below to verify GPUs are detected.**"
   ],
   "metadata": {
    "collapsed": false
   },
   "id": "35879d12a0678cb2"
  },
  {
   "cell_type": "code",
   "outputs": [],
   "source": [
    "import tensorflow as tf"
   ],
   "metadata": {
    "collapsed": false,
    "ExecuteTime": {
     "end_time": "2024-02-08T13:01:12.993057500Z",
     "start_time": "2024-02-08T13:01:12.977084900Z"
    }
   },
   "id": "bdbec734ec6a26fb",
   "execution_count": 5
  },
  {
   "cell_type": "code",
   "outputs": [
    {
     "name": "stdout",
     "output_type": "stream",
     "text": [
      "Tensorflow Version:\t\t\t\t\t\t 2.10.0\n",
      "Detected GPUs:\t\t\t\t\t\t\t [PhysicalDevice(name='/physical_device:GPU:0', device_type='GPU')]\n",
      "Total Available GPU Count:\t\t\t\t 1\n",
      "CUDA-support is given on your System:\t True\n"
     ]
    }
   ],
   "source": [
    "print('Tensorflow Version:\\t\\t\\t\\t\\t\\t', tf.__version__)\n",
    "print('Detected GPUs:\\t\\t\\t\\t\\t\\t\\t', tf.config.experimental.list_physical_devices('GPU'))\n",
    "print('Total Available GPU Count:\\t\\t\\t\\t', len(tf.config.list_physical_devices('GPU')))\n",
    "print('CUDA-support is given on your System:\\t', tf.test.is_built_with_cuda())"
   ],
   "metadata": {
    "collapsed": false,
    "ExecuteTime": {
     "end_time": "2024-02-08T13:03:08.490958100Z",
     "start_time": "2024-02-08T13:03:08.467995Z"
    }
   },
   "id": "984e9e90a1ded911",
   "execution_count": 14
  },
  {
   "cell_type": "code",
   "outputs": [],
   "source": [],
   "metadata": {
    "collapsed": false
   },
   "id": "7658c7001b414939"
  }
 ],
 "metadata": {
  "kernelspec": {
   "display_name": "Python 3",
   "language": "python",
   "name": "python3"
  },
  "language_info": {
   "codemirror_mode": {
    "name": "ipython",
    "version": 2
   },
   "file_extension": ".py",
   "mimetype": "text/x-python",
   "name": "python",
   "nbconvert_exporter": "python",
   "pygments_lexer": "ipython2",
   "version": "2.7.6"
  }
 },
 "nbformat": 4,
 "nbformat_minor": 5
}
